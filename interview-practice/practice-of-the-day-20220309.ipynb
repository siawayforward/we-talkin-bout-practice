{
 "cells": [
  {
   "cell_type": "markdown",
   "source": "### 1. Find the missing number\r\nGood morning. Here's your algorithms question for today.\r\n\r\nThis question was asked by: **Microsoft**\r\n\r\nYou have an array of integers of length n spanning $0$ to $n$ with one missing. Write a function missing_number that returns the missing number in the array.\r\n\r\nNote: Complexity of $O(N)$ required.\r\n\r\nExample:\r\n\r\nInput:\r\n\r\nnums = [0,1,2,4,5] \r\nmissing_number(nums) -> 3",
   "metadata": {
    "cell_id": "fc317ca1-793c-428e-9f45-c64491eb3805",
    "tags": [],
    "deepnote_cell_type": "markdown",
    "deepnote_cell_height": 341.125
   }
  },
  {
   "cell_type": "code",
   "metadata": {
    "tags": [],
    "cell_id": "3bd38358-5b58-4fd4-821b-c5c5a59cfb9f",
    "deepnote_to_be_reexecuted": false,
    "source_hash": "cdc75ecf",
    "execution_start": 1646882818745,
    "execution_millis": 4,
    "deepnote_cell_type": "code",
    "deepnote_cell_height": 99
   },
   "source": "def missing_number(arr):\r\n    return list(set(range(x[0],x[-1]+1)) -  set(arr))[0]",
   "execution_count": 52,
   "outputs": []
  },
  {
   "cell_type": "code",
   "source": "x = list(range(0,101))\r\nx.remove(55)",
   "metadata": {
    "cell_id": "a54953e3-876c-4c62-8cc6-eda0f3a761da",
    "tags": [],
    "deepnote_to_be_reexecuted": false,
    "source_hash": "e6a0f584",
    "execution_start": 1646882819768,
    "execution_millis": 0,
    "deepnote_cell_type": "code",
    "deepnote_cell_height": 99,
    "deepnote_output_heights": [
     21.1875
    ]
   },
   "outputs": [],
   "execution_count": 53
  },
  {
   "cell_type": "code",
   "source": "missing_number(x)",
   "metadata": {
    "cell_id": "8e1a022e-3767-4366-9e82-6f2f1fa92ce2",
    "tags": [],
    "deepnote_to_be_reexecuted": false,
    "source_hash": "9282ae41",
    "execution_start": 1646882820541,
    "execution_millis": 8,
    "deepnote_cell_type": "code",
    "deepnote_cell_height": 118.1875,
    "deepnote_output_heights": [
     21.1875
    ]
   },
   "outputs": [
    {
     "output_type": "execute_result",
     "execution_count": 54,
     "data": {
      "text/plain": "55"
     },
     "metadata": {}
    }
   ],
   "execution_count": 54
  },
  {
   "cell_type": "markdown",
   "source": "### 2. Order Addresses\r\n\r\nGood morning. Here's your sql question for today.\r\n\r\nThis question was asked by: **GrubHub**\r\n\r\nGiven a table of transactions and a table of users, write a query to determine if users tend to order more to their primary address versus other addresses.\r\n\r\nNote: Return the percentage of transactions ordered to their home address as home_address_percent.\r\n\r\nExample:\r\n\r\n**Input:**\r\n\r\ntransactions table:\r\n\r\n| Columns\t| Type |\r\n|-----------|--------|\r\n|id\t| INTEGER |\r\n| user_id\t| INTEGER |\r\n| created_at\t| DATETIME |\r\n| shipping_address | VARCHAR |\r\n-----------------\r\n\r\nusers table:\r\n\r\n| Columns\t| Type |\r\n|-----------|--------|\r\n|id\t| INTEGER |\r\n| name |\tVARCHAR|\r\n| address\t| VARCHAR |\r\n----------------\r\n\r\n**Example Output:**\r\n\r\nhome_address_percent\t0.76\r\n\r\n\r\n#### My Solution\r\n```sql\r\nSELECT\r\nCAST(SUM(CASE WHEN u.address = t.shipping_address THEN 1 ELSE 0 END) AS DECIMAL)/COUNT(t.*)\r\nFROM transactions t\r\nLEFT JOIN users u ON u.id = t.user_id\r\n;\r\n```",
   "metadata": {
    "cell_id": "453aa248-cc3c-4069-8d5d-b99b155c49f7",
    "tags": [],
    "deepnote_cell_type": "markdown",
    "deepnote_cell_height": 900.546875
   }
  },
  {
   "cell_type": "markdown",
   "source": "<a style='text-decoration:none;line-height:16px;display:flex;color:#5B5B62;padding:10px;justify-content:end;' href='https://deepnote.com?utm_source=created-in-deepnote-cell&projectId=0add6c12-ff9b-4d6a-82a8-e642c7c75f90' target=\"_blank\">\n<img alt='Created in deepnote.com' style='display:inline;max-height:16px;margin:0px;margin-right:7.5px;' src='data:image/svg+xml;base64,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' > </img>\nCreated in <span style='font-weight:600;margin-left:4px;'>Deepnote</span></a>",
   "metadata": {
    "tags": [],
    "created_in_deepnote_cell": true,
    "deepnote_cell_type": "markdown"
   }
  }
 ],
 "nbformat": 4,
 "nbformat_minor": 2,
 "metadata": {
  "orig_nbformat": 2,
  "deepnote": {
   "is_reactive": false
  },
  "deepnote_notebook_id": "33bdfa77-5f3b-4cd3-9881-9a0374a1ba8a",
  "deepnote_execution_queue": []
 }
}