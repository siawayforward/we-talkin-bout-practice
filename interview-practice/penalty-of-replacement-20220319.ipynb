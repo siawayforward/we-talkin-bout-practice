{
 "cells": [
  {
   "cell_type": "markdown",
   "source": "### Slow Sums\nSuppose we have a list of N numbers, and repeat the following operation until we're left with only a single number: \n\nChoose any two numbers and replace them with their sum. Moreover, we associate a penalty with each operation equal to the value of the new number, and call the penalty for the entire list as the sum of the penalties of each operation.\n\nFor example, given the list [1, 2, 3, 4, 5], we could choose 2 and 3 for the first operation, which would transform the list into [1, 5, 4, 5] and incur a penalty of 5. The goal in this problem is to find the highest possible penalty for a given input.\n\n\n#### Signature:\nint getTotalTime(int[] arr)\n\n#### Input:\nAn array arr containing N integers, denoting the numbers in the list.\nOutput format:\nAn int representing the highest possible total penalty.\n#### Constraints:\n1 ≤ N ≤ 10^6\n1 ≤ Ai ≤ 10^7, where *Ai denotes the ith initial element of an array.\nThe sum of values of N over all test cases will not exceed 5 * 10^6.\n\n#### Example\narr = [4, 2, 1, 3]\noutput = 26\n\nFirst, add 4 + 3 for a penalty of 7. Now the array is [7, 2, 1]  \nAdd 7 + 2 for a penalty of 9. Now the array is [9, 1]  \nAdd 9 + 1 for a penalty of 10. The penalties sum to 26.",
   "metadata": {
    "cell_id": "decb109c-3cb2-455a-bb60-3101b68e9d60",
    "tags": [],
    "deepnote_cell_type": "markdown",
    "deepnote_cell_height": 696.25
   }
  },
  {
   "cell_type": "code",
   "metadata": {
    "tags": [],
    "cell_id": "cbb69fc7-5eca-4738-9e82-46b620b87a81",
    "deepnote_to_be_reexecuted": false,
    "source_hash": "c4909705",
    "execution_start": 1647665809952,
    "execution_millis": 1,
    "deepnote_cell_type": "code",
    "deepnote_cell_height": 171
   },
   "source": "# Add any helper functions you may need here\ndef _sum_numbers(a,b,arr):\n  arr.remove(a)\n  arr.remove(b)\n  arr.append(a+b)\n  yield a+b",
   "execution_count": 40,
   "outputs": []
  },
  {
   "cell_type": "code",
   "source": "# function to get total time penality\ndef getTotalTime(arr):\n  # Write your code here\n  arr.sort()\n  penalty = 0\n  while len(arr) > 1:\n    pen = _sum_numbers(arr[-2], arr[-1], arr)\n    penalty += next(pen)\n    print('how long now',len(arr))\n  return penalty",
   "metadata": {
    "cell_id": "6a25c791-87c8-4d6b-90fa-9a5c62b104b7",
    "tags": [],
    "deepnote_to_be_reexecuted": false,
    "source_hash": "9af140f8",
    "execution_start": 1647665810926,
    "execution_millis": 2,
    "deepnote_cell_type": "code",
    "deepnote_cell_height": 243
   },
   "outputs": [],
   "execution_count": 41
  },
  {
   "cell_type": "code",
   "source": "# example\nx = [4,1,2,3]\ngetTotalTime(x)",
   "metadata": {
    "cell_id": "565599f0-a4b8-4655-b0e8-0f240e1af552",
    "tags": [],
    "deepnote_to_be_reexecuted": false,
    "source_hash": "39de611a",
    "execution_start": 1647665812400,
    "execution_millis": 40,
    "deepnote_cell_type": "code",
    "deepnote_cell_height": 222.75,
    "deepnote_output_heights": [
     404.9375,
     21.1875
    ]
   },
   "outputs": [
    {
     "name": "stdout",
     "text": "how long now 3\nhow long now 2\nhow long now 1\n",
     "output_type": "stream"
    },
    {
     "output_type": "execute_result",
     "execution_count": 42,
     "data": {
      "text/plain": "26"
     },
     "metadata": {}
    }
   ],
   "execution_count": 42
  },
  {
   "cell_type": "markdown",
   "source": "<a style='text-decoration:none;line-height:16px;display:flex;color:#5B5B62;padding:10px;justify-content:end;' href='https://deepnote.com?utm_source=created-in-deepnote-cell&projectId=0add6c12-ff9b-4d6a-82a8-e642c7c75f90' target=\"_blank\">\n<img alt='Created in deepnote.com' style='display:inline;max-height:16px;margin:0px;margin-right:7.5px;' src='data:image/svg+xml;base64,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' > </img>\nCreated in <span style='font-weight:600;margin-left:4px;'>Deepnote</span></a>",
   "metadata": {
    "tags": [],
    "created_in_deepnote_cell": true,
    "deepnote_cell_type": "markdown"
   }
  }
 ],
 "nbformat": 4,
 "nbformat_minor": 2,
 "metadata": {
  "orig_nbformat": 2,
  "deepnote": {
   "is_reactive": false
  },
  "deepnote_notebook_id": "8f776fca-7a2e-47fe-9ce5-157b4d95f75b",
  "deepnote_execution_queue": []
 }
}