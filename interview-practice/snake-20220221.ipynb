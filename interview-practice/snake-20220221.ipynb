{
 "cells": [
  {
   "cell_type": "markdown",
   "metadata": {},
   "source": [
    "# Friendship Timeline\n",
    "\n",
    "There are two lists of dictionaries representing friendship beginnings and endings: `friends_added` and `friends_removed`. Each dictionary contains the `user_ids` and `created_at` time of the friendship beginning /ending.\n",
    "\n",
    "Write a function `friendship_timeline` to generate an output that lists the pairs of friends with their corresponding timestamps of the friendship beginning and then the timestamp of the friendship ending.\n",
    "\n",
    "Note: There can be multiple instances over time when two people became friends and unfriended; only output lists when a corresponding friendship was removed.\n",
    "\n",
    "## Example\n",
    "\n",
    "### Input:\n",
    "\n",
    "```python\n",
    "friends_added = [\n",
    "    {'user_ids': [1, 2], 'created_at': '2020-01-01'},\n",
    "    {'user_ids': [3, 2], 'created_at': '2020-01-02'},\n",
    "    {'user_ids': [2, 1], 'created_at': '2020-02-02'},\n",
    "    {'user_ids': [4, 1], 'created_at': '2020-02-02'}]\n",
    "\n",
    "friends_removed = [\n",
    "    {'user_ids': [2, 1], 'created_at': '2020-01-03'},\n",
    "    {'user_ids': [2, 3], 'created_at': '2020-01-05'},\n",
    "    {'user_ids': [1, 2], 'created_at': '2020-02-05'}]\n",
    "```\n",
    "\n",
    "### Output:\n",
    "\n",
    "```python\n",
    "friendships = [{\n",
    "    'user_ids': [1, 2],\n",
    "    'start_date': '2020-01-01',\n",
    "    'end_date': '2020-01-03'\n",
    "  },\n",
    "  {\n",
    "    'user_ids': [1, 2],\n",
    "    'start_date': '2020-02-02',\n",
    "    'end_date': '2020-02-05'\n",
    "  },\n",
    "  {\n",
    "    'user_ids': [2, 3],\n",
    "    'start_date': '2020-01-02',\n",
    "    'end_date': '2020-01-05'\n",
    "  },\n",
    "]\n",
    "```"
   ]
  },
  {
   "cell_type": "code",
   "execution_count": 2,
   "metadata": {},
   "outputs": [],
   "source": [
    "friends_added = [\n",
    "    {'user_ids': [1, 2], 'created_at': '2020-01-01'},\n",
    "    {'user_ids': [3, 2], 'created_at': '2020-01-02'},\n",
    "    {'user_ids': [2, 1], 'created_at': '2020-02-02'},\n",
    "    {'user_ids': [4, 1], 'created_at': '2020-02-02'}]\n",
    "\n",
    "friends_removed = [\n",
    "    {'user_ids': [2, 1], 'created_at': '2020-01-03'},\n",
    "    {'user_ids': [2, 3], 'created_at': '2020-01-05'},\n",
    "    {'user_ids': [1, 2], 'created_at': '2020-02-05'}]"
   ]
  },
  {
   "cell_type": "code",
   "execution_count": 43,
   "metadata": {},
   "outputs": [],
   "source": [
    "def friendship_timeline(friends_added, friends_removed):\n",
    "    start = [set(i['user_ids']) for i in friends_added]\n",
    "    end = [set(i['user_ids']) for i in friends_removed]\n",
    "    \n",
    "    timelines = []\n",
    "    # get timelines\n",
    "    for i, v in enumerate(end):\n",
    "        timelines.append({\n",
    "            'user_ids': list(v),\n",
    "            'start_date': [j['created_at'] for j in friends_added][i],\n",
    "            'end_date': [j['created_at'] for j in friends_removed][i]\n",
    "        })\n",
    "    timelines = sorted(timelines, key=lambda x: x['user_ids'])\n",
    "    return timelines"
   ]
  },
  {
   "cell_type": "code",
   "execution_count": 44,
   "metadata": {},
   "outputs": [
    {
     "data": {
      "text/plain": [
       "[{'user_ids': [1, 2], 'start_date': '2020-01-01', 'end_date': '2020-01-03'},\n",
       " {'user_ids': [1, 2], 'start_date': '2020-02-02', 'end_date': '2020-02-05'},\n",
       " {'user_ids': [2, 3], 'start_date': '2020-01-02', 'end_date': '2020-01-05'}]"
      ]
     },
     "execution_count": 44,
     "metadata": {},
     "output_type": "execute_result"
    }
   ],
   "source": [
    "friendship_timeline(friends_added, friends_removed)"
   ]
  },
  {
   "cell_type": "markdown",
   "metadata": {},
   "source": [
    "I think this covers most test cases, but need to test it on something bigger. If you catch something while roaming here, lemme know!"
   ]
  }
 ],
 "metadata": {
  "interpreter": {
   "hash": "d2c72cc6e90fb8459eef0551a10b3a7d42267052b3677b11fd78927cc89aa8a4"
  },
  "kernelspec": {
   "display_name": "Python 3.7.6 64-bit",
   "language": "python",
   "name": "python3"
  },
  "language_info": {
   "codemirror_mode": {
    "name": "ipython",
    "version": 3
   },
   "file_extension": ".py",
   "mimetype": "text/x-python",
   "name": "python",
   "nbconvert_exporter": "python",
   "pygments_lexer": "ipython3",
   "version": "3.7.6"
  },
  "orig_nbformat": 4
 },
 "nbformat": 4,
 "nbformat_minor": 2
}
