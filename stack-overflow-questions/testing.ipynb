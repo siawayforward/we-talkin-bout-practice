{
 "metadata": {
  "language_info": {
   "codemirror_mode": {
    "name": "ipython",
    "version": 3
   },
   "file_extension": ".py",
   "mimetype": "text/x-python",
   "name": "python",
   "nbconvert_exporter": "python",
   "pygments_lexer": "ipython3",
   "version": "3.7.6-final"
  },
  "orig_nbformat": 2,
  "kernelspec": {
   "name": "python_defaultSpec_1600626847610",
   "display_name": "Python 3.7.6 64-bit"
  }
 },
 "nbformat": 4,
 "nbformat_minor": 2,
 "cells": [
  {
   "cell_type": "code",
   "execution_count": 1,
   "metadata": {},
   "outputs": [],
   "source": [
    "#modules\n",
    "import string\n",
    "import wordninja\n",
    "from nltk.corpus import stopwords"
   ]
  },
  {
   "cell_type": "code",
   "execution_count": 22,
   "metadata": {},
   "outputs": [],
   "source": [
    "def pre_process_text(statement):\n",
    "    #remove punctuation\n",
    "    list_of_words = statement.split(' ')\n",
    "    #split out conjoined words, remove punctuation\n",
    "    statement = ' '.join(' '.join(wordninja.split(word)) for word in statement.split())\n",
    "    #lower case for everything\n",
    "    statement = statement.lower()\n",
    "    print('After splitting words, removing punctuation, and lower case: \\n', statement, '\\n')\n",
    "    #remove stop words\n",
    "    statement = ' '.join(word for word in statement.split(' ') if word not in stopwords.words('english'))\n",
    "    print('After stopword removal: \\n', statement)"
   ]
  },
  {
   "cell_type": "code",
   "execution_count": 23,
   "metadata": {
    "tags": []
   },
   "outputs": [
    {
     "output_type": "stream",
     "name": "stdout",
     "text": "After splitting words, removing punctuation, and lower case: \n the seattle python ladies have allowed me to come here a whole presentation wow \n\nAfter stopword removal: \n seattle python ladies allowed come whole presentation wow\n"
    }
   ],
   "source": [
    "#pre-processing statement\n",
    "statement = 'The Seattle Pythonladies haveallowedmeto come here! A whole presentation?! WOW!'\n",
    "\n",
    "#run function\n",
    "pre_process_text(statement)"
   ]
  },
  {
   "source": [],
   "cell_type": "markdown",
   "metadata": {}
  },
  {
   "cell_type": "code",
   "execution_count": null,
   "metadata": {},
   "outputs": [],
   "source": []
  }
 ]
}