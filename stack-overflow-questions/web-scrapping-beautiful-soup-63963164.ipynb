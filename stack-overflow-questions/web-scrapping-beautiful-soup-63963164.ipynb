{
 "metadata": {
  "language_info": {
   "codemirror_mode": {
    "name": "ipython",
    "version": 3
   },
   "file_extension": ".py",
   "mimetype": "text/x-python",
   "name": "python",
   "nbconvert_exporter": "python",
   "pygments_lexer": "ipython3",
   "version": "3.7.6-final"
  },
  "orig_nbformat": 2,
  "kernelspec": {
   "name": "python_defaultSpec_1600481868993",
   "display_name": "Python 3.7.6 64-bit"
  }
 },
 "nbformat": 4,
 "nbformat_minor": 2,
 "cells": [
  {
   "source": [
    "Web scrapping with python - dynamic pages  \n",
    "https://stackoverflow.com/questions/63963164/something-wrong-on-web-scrapping-using-beautifulsoup"
   ],
   "cell_type": "markdown",
   "metadata": {}
  },
  {
   "cell_type": "code",
   "execution_count": 2,
   "metadata": {},
   "outputs": [],
   "source": [
    "from selenium import webdriver\n",
    "import pandas as pd"
   ]
  },
  {
   "cell_type": "code",
   "execution_count": 20,
   "metadata": {},
   "outputs": [],
   "source": [
    "URL = 'https://www.google.com/search?q=Tabela+do+Campeonato+Brasileiro+de+Futebol&oq=Tabela+do+Campeonato+Brasileiro+de+Futebol&aqs=chrome..69i57.241j0j1&sourceid=chrome&ie=UTF-8#sie=lg;/g/11fmzksb3y;2;/m/0fnk7q;st;fp;1;;'\n",
    "#webdriver and get data from dynamic page\n",
    "dr = webdriver.Chrome(executable_path=r'C:/bin/chromedriver.exe')\n",
    "dr.get(URL)\n",
    "#get table data by xpath\n",
    "data = dr.find_element_by_css_selector('#rso').get_attribute('outerHTML')\n",
    "dr.close()"
   ]
  },
  {
   "cell_type": "code",
   "execution_count": 25,
   "metadata": {},
   "outputs": [],
   "source": [
    "#get data as dataframe\n",
    "raw = pd.read_html(data)[0]\n",
    "#organize retrieved columns\n",
    "labels = raw.columns.values[1:11]\n",
    "table = raw[labels]\n",
    "#delete excess column\n",
    "del table['Club']\n",
    "table.columns = labels[:-1] #ignore the last value"
   ]
  },
  {
   "cell_type": "code",
   "execution_count": 26,
   "metadata": {},
   "outputs": [
    {
     "output_type": "execute_result",
     "data": {
      "text/plain": "               Club  MP  W  D  L  GF  GA  GD  Pts\n0     Internacional  10  6  2  2  15   6   9   20\n1  Atlético Mineiro   9  6  0  3  14   9   5   18\n2         São Paulo  10  5  3  2  13  11   2   18\n3     Vasco da Gama   9  5  2  2  15   9   6   17\n4          Flamengo  10  5  2  3  13  13   0   17",
      "text/html": "<div>\n<style scoped>\n    .dataframe tbody tr th:only-of-type {\n        vertical-align: middle;\n    }\n\n    .dataframe tbody tr th {\n        vertical-align: top;\n    }\n\n    .dataframe thead th {\n        text-align: right;\n    }\n</style>\n<table border=\"1\" class=\"dataframe\">\n  <thead>\n    <tr style=\"text-align: right;\">\n      <th></th>\n      <th>Club</th>\n      <th>MP</th>\n      <th>W</th>\n      <th>D</th>\n      <th>L</th>\n      <th>GF</th>\n      <th>GA</th>\n      <th>GD</th>\n      <th>Pts</th>\n    </tr>\n  </thead>\n  <tbody>\n    <tr>\n      <th>0</th>\n      <td>Internacional</td>\n      <td>10</td>\n      <td>6</td>\n      <td>2</td>\n      <td>2</td>\n      <td>15</td>\n      <td>6</td>\n      <td>9</td>\n      <td>20</td>\n    </tr>\n    <tr>\n      <th>1</th>\n      <td>Atlético Mineiro</td>\n      <td>9</td>\n      <td>6</td>\n      <td>0</td>\n      <td>3</td>\n      <td>14</td>\n      <td>9</td>\n      <td>5</td>\n      <td>18</td>\n    </tr>\n    <tr>\n      <th>2</th>\n      <td>São Paulo</td>\n      <td>10</td>\n      <td>5</td>\n      <td>3</td>\n      <td>2</td>\n      <td>13</td>\n      <td>11</td>\n      <td>2</td>\n      <td>18</td>\n    </tr>\n    <tr>\n      <th>3</th>\n      <td>Vasco da Gama</td>\n      <td>9</td>\n      <td>5</td>\n      <td>2</td>\n      <td>2</td>\n      <td>15</td>\n      <td>9</td>\n      <td>6</td>\n      <td>17</td>\n    </tr>\n    <tr>\n      <th>4</th>\n      <td>Flamengo</td>\n      <td>10</td>\n      <td>5</td>\n      <td>2</td>\n      <td>3</td>\n      <td>13</td>\n      <td>13</td>\n      <td>0</td>\n      <td>17</td>\n    </tr>\n  </tbody>\n</table>\n</div>"
     },
     "metadata": {},
     "execution_count": 26
    }
   ],
   "source": [
    "table"
   ]
  },
  {
   "cell_type": "code",
   "execution_count": null,
   "metadata": {},
   "outputs": [],
   "source": []
  }
 ]
}